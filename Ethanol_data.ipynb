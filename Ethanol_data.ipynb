{
  "nbformat": 4,
  "nbformat_minor": 0,
  "metadata": {
    "colab": {
      "provenance": [],
      "gpuType": "T4",
      "authorship_tag": "ABX9TyODpg0ImU4EhXti+X9S1PN5",
      "include_colab_link": true
    },
    "kernelspec": {
      "name": "python3",
      "display_name": "Python 3"
    },
    "language_info": {
      "name": "python"
    },
    "accelerator": "GPU"
  },
  "cells": [
    {
      "cell_type": "markdown",
      "metadata": {
        "id": "view-in-github",
        "colab_type": "text"
      },
      "source": [
        "<a href=\"https://colab.research.google.com/github/vidhya2324/Machine_learning/blob/main/Ethanol_data.ipynb\" target=\"_parent\"><img src=\"https://colab.research.google.com/assets/colab-badge.svg\" alt=\"Open In Colab\"/></a>"
      ]
    },
    {
      "cell_type": "code",
      "execution_count": 2,
      "metadata": {
        "id": "-htOzDtwp66T"
      },
      "outputs": [],
      "source": [
        "import numpy as np\n",
        "import pandas as pd\n",
        "from sklearn.preprocessing import MinMaxScaler\n",
        "from tensorflow.keras.models import Sequential\n",
        "from tensorflow.keras.layers import LSTM, Dense, Dropout\n",
        "import matplotlib.pyplot as plt"
      ]
    },
    {
      "cell_type": "markdown",
      "source": [
        "# Load the dataset"
      ],
      "metadata": {
        "id": "EbzzP5ywqcGW"
      }
    },
    {
      "cell_type": "code",
      "source": [
        "import zipfile\n",
        "import os\n",
        "import pandas as pd\n",
        "import numpy as np\n",
        "from sklearn.preprocessing import MinMaxScaler\n",
        "from tensorflow.keras.models import Sequential\n",
        "from tensorflow.keras.layers import LSTM, Dense, Dropout\n",
        "import matplotlib.pyplot as plt\n",
        "\n",
        "# Unzip the uploaded file\n",
        "zip_path = '/content/archive.zip'\n",
        "extract_path = '/content/ethanol_data'\n",
        "\n",
        "with zipfile.ZipFile(zip_path, 'r') as zip_ref:\n",
        "    zip_ref.extractall(extract_path)\n",
        "\n",
        "# Check extracted files\n",
        "extracted_files = os.listdir(extract_path)\n",
        "\n",
        "# Initialize an empty list to hold the data\n",
        "data_frames = []\n",
        "\n",
        "# Read each Excel file and append to the list\n",
        "for file in extracted_files:\n",
        "    if file.endswith('.xlsx'):\n",
        "        file_path = os.path.join(extract_path, file)\n",
        "        df = pd.read_excel(file_path)\n",
        "        data_frames.append(df)"
      ],
      "metadata": {
        "id": "aJuOtrKDuQdG"
      },
      "execution_count": 6,
      "outputs": []
    },
    {
      "cell_type": "code",
      "source": [
        "# Concatenate all data frames\n",
        "consolidated_data = pd.concat(data_frames, ignore_index=True)\n"
      ],
      "metadata": {
        "id": "Qt4glp-JulFA"
      },
      "execution_count": 7,
      "outputs": []
    },
    {
      "cell_type": "code",
      "source": [
        "# Display the first few rows of the consolidated data\n",
        "print(consolidated_data.head())"
      ],
      "metadata": {
        "colab": {
          "base_uri": "https://localhost:8080/"
        },
        "id": "FMUzRlVEuw_V",
        "outputId": "45a00ce0-be3c-48c7-e47a-02d194611a19"
      },
      "execution_count": 8,
      "outputs": [
        {
          "output_type": "stream",
          "name": "stdout",
          "text": [
            "              Estados  Cana-de-açúcar(mil toneladas)  Açúcar(mil toneladas)  \\\n",
            "0      Espírito Santo                       3938.757                 86.823   \n",
            "1               Goiás                      21082.011                950.602   \n",
            "2         Mato Grosso                      14928.015                536.234   \n",
            "3  Mato Grosso do Sul                      14869.066                616.170   \n",
            "4        Minas Gerais                      35723.246               2117.696   \n",
            "\n",
            "   Etanol (mil m³)_Anidro  Etanol (mil m³)_Hidratado  Etanol (mil m³)_Total  \\\n",
            "0                 175.077                     77.384                252.461   \n",
            "1                 463.888                    749.740               1213.628   \n",
            "2                 382.134                    512.247                894.381   \n",
            "3                 214.211                    662.562                876.773   \n",
            "4                 575.223                   1199.765               1774.988   \n",
            "\n",
            "   Cana-de-açúcar (mil toneladas)  Açúcar (mil toneladas) ESTADO/SAFRA  2002  \\\n",
            "0                             NaN                     NaN          NaN   NaN   \n",
            "1                             NaN                     NaN          NaN   NaN   \n",
            "2                             NaN                     NaN          NaN   NaN   \n",
            "3                             NaN                     NaN          NaN   NaN   \n",
            "4                             NaN                     NaN          NaN   NaN   \n",
            "\n",
            "   ...  2009  2010  2011  2012  2013  2014  2015  2016  2017  2018  \n",
            "0  ...   NaN   NaN   NaN   NaN   NaN   NaN   NaN   NaN   NaN   NaN  \n",
            "1  ...   NaN   NaN   NaN   NaN   NaN   NaN   NaN   NaN   NaN   NaN  \n",
            "2  ...   NaN   NaN   NaN   NaN   NaN   NaN   NaN   NaN   NaN   NaN  \n",
            "3  ...   NaN   NaN   NaN   NaN   NaN   NaN   NaN   NaN   NaN   NaN  \n",
            "4  ...   NaN   NaN   NaN   NaN   NaN   NaN   NaN   NaN   NaN   NaN  \n",
            "\n",
            "[5 rows x 26 columns]\n"
          ]
        }
      ]
    },
    {
      "cell_type": "code",
      "source": [
        "consolidated_data.info()"
      ],
      "metadata": {
        "colab": {
          "base_uri": "https://localhost:8080/"
        },
        "id": "FVL7PJT9u3vM",
        "outputId": "f379ff7b-9175-4195-9086-c1f5b087d33d"
      },
      "execution_count": 9,
      "outputs": [
        {
          "output_type": "stream",
          "name": "stdout",
          "text": [
            "<class 'pandas.core.frame.DataFrame'>\n",
            "RangeIndex: 553 entries, 0 to 552\n",
            "Data columns (total 26 columns):\n",
            " #   Column                          Non-Null Count  Dtype  \n",
            "---  ------                          --------------  -----  \n",
            " 0   Estados                         493 non-null    object \n",
            " 1   Cana-de-açúcar(mil toneladas)   464 non-null    float64\n",
            " 2   Açúcar(mil toneladas)           464 non-null    float64\n",
            " 3   Etanol (mil m³)_Anidro          493 non-null    float64\n",
            " 4   Etanol (mil m³)_Hidratado       493 non-null    float64\n",
            " 5   Etanol (mil m³)_Total           493 non-null    float64\n",
            " 6   Cana-de-açúcar (mil toneladas)  29 non-null     float64\n",
            " 7   Açúcar (mil toneladas)          29 non-null     float64\n",
            " 8   ESTADO/SAFRA                    60 non-null     object \n",
            " 9   2002                            60 non-null     float64\n",
            " 10  2003                            60 non-null     float64\n",
            " 11  2004                            60 non-null     float64\n",
            " 12  2005                            60 non-null     float64\n",
            " 13  2006                            60 non-null     float64\n",
            " 14  2007                            60 non-null     float64\n",
            " 15  2008                            60 non-null     float64\n",
            " 16  2009                            60 non-null     float64\n",
            " 17  2010                            60 non-null     float64\n",
            " 18  2011                            60 non-null     float64\n",
            " 19  2012                            60 non-null     float64\n",
            " 20  2013                            60 non-null     float64\n",
            " 21  2014                            60 non-null     float64\n",
            " 22  2015                            60 non-null     float64\n",
            " 23  2016                            60 non-null     float64\n",
            " 24  2017                            60 non-null     float64\n",
            " 25  2018                            60 non-null     float64\n",
            "dtypes: float64(24), object(2)\n",
            "memory usage: 112.5+ KB\n"
          ]
        }
      ]
    },
    {
      "cell_type": "code",
      "source": [
        "# Assuming the relevant column for ethanol demand is 'Etanol (mil m³)_Total'\n",
        "ethanol_data = consolidated_data[['Etanol (mil m³)_Total']].dropna()"
      ],
      "metadata": {
        "id": "OR3dS5PavRjR"
      },
      "execution_count": 10,
      "outputs": []
    },
    {
      "cell_type": "code",
      "source": [
        "# Generate a date range assuming monthly data starting from 2002\n",
        "date_range = pd.date_range(start='2002-01-01', periods=len(ethanol_data), freq='M')\n",
        "ethanol_data['date'] = date_range\n",
        "ethanol_data.set_index('date', inplace=True)"
      ],
      "metadata": {
        "id": "W8Qt3TEmvTX7"
      },
      "execution_count": 11,
      "outputs": []
    },
    {
      "cell_type": "code",
      "source": [
        "# Scale the data\n",
        "scaler = MinMaxScaler(feature_range=(0, 1))\n",
        "scaled_data = scaler.fit_transform(ethanol_data.values)\n"
      ],
      "metadata": {
        "id": "G5AqEN5nvYGF"
      },
      "execution_count": 12,
      "outputs": []
    },
    {
      "cell_type": "code",
      "source": [
        "# Create sequences\n",
        "def create_sequences(data, seq_length):\n",
        "    X = []\n",
        "    y = []\n",
        "    for i in range(len(data) - seq_length):\n",
        "        X.append(data[i:i+seq_length])\n",
        "        y.append(data[i+seq_length])\n",
        "    return np.array(X), np.array(y)"
      ],
      "metadata": {
        "id": "0lv5OHBtvgVS"
      },
      "execution_count": 13,
      "outputs": []
    }
  ]
}